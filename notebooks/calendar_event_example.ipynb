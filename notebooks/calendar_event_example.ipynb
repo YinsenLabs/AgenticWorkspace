{
 "cells": [
  {
   "cell_type": "markdown",
   "metadata": {},
   "source": [
    "# Load environment variables\n",
    "\n",
    "1, Create a `.env` file from the root directory of the project\n",
    "\n",
    "2, Add the GEMINI_API_KEY variable"
   ]
  },
  {
   "cell_type": "code",
   "execution_count": 1,
   "metadata": {},
   "outputs": [
    {
     "data": {
      "text/plain": [
       "True"
      ]
     },
     "execution_count": 1,
     "metadata": {},
     "output_type": "execute_result"
    }
   ],
   "source": [
    "from dotenv import load_dotenv\n",
    "from typing import List\n",
    "\n",
    "load_dotenv()"
   ]
  },
  {
   "cell_type": "markdown",
   "metadata": {},
   "source": [
    "# Sample\n",
    "\n",
    "## Gemini call\n",
    "\n",
    "Calling the Gemini model to generate an output with a calendar event schema using `call_gemini_calendar_event()`"
   ]
  },
  {
   "cell_type": "code",
   "execution_count": 39,
   "metadata": {},
   "outputs": [
    {
     "name": "stdout",
     "output_type": "stream",
     "text": [
      "\n",
      "---- \n",
      "About event:  Meeting with Team A to discuss project progress\n",
      "Summary:  Team A Meeting\n",
      "Description:  Discuss project progress, review tasks, and plan next steps. Time zone: Ho Chi Minh\n",
      "Start:  {'dateTime': '2025-04-06T11:00:00+07:00', 'timeZone': 'Asia/Ho_Chi_Minh'}\n",
      "End:  {'dateTime': '2025-04-06T12:00:00+07:00', 'timeZone': 'Asia/Ho_Chi_Minh'}\n",
      "\n",
      "---- \n",
      "About event:  Lunch with John at local restaurant\n",
      "Summary:  Lunch with John\n",
      "Description:  Have lunch with John and discuss potential collaboration opportunities. Time zone: Ho Chi Minh\n",
      "Start:  {'dateTime': '2025-04-06T12:30:00+07:00', 'timeZone': 'Asia/Ho_Chi_Minh'}\n",
      "End:  {'dateTime': '2025-04-06T13:30:00+07:00', 'timeZone': 'Asia/Ho_Chi_Minh'}\n",
      "\n",
      "---- \n",
      "About event:  Prepare presentation for the upcoming conference\n",
      "Summary:  Presentation Preparation\n",
      "Description:  Work on presentation slides, rehearse the speech, and finalize the content. Time zone: Ho Chi Minh\n",
      "Start:  {'dateTime': '2025-04-06T14:00:00+07:00', 'timeZone': 'Asia/Ho_Chi_Minh'}\n",
      "End:  {'dateTime': '2025-04-06T16:00:00+07:00', 'timeZone': 'Asia/Ho_Chi_Minh'}\n"
     ]
    }
   ],
   "source": [
    "from agentic_workspace.llm_clients.gemini_calls import call_gemini_calendar_event\n",
    "from agentic_workspace.models.calendar_event import CalendarEventModel\n",
    "from agentic_workspace.llm_clients.promt_template import calendar_event_prompt\n",
    "\n",
    "\n",
    "prompt = calendar_event_prompt(\n",
    "    objective=\"Create 3 test events consecutively\",\n",
    "    constraints=\"Time zone Ho Chi Minh, description in detail\"\n",
    "    )\n",
    "\n",
    "response : List[CalendarEventModel] = call_gemini_calendar_event(prompt)\n",
    "\n",
    "for event in response:\n",
    "    event = event.model_dump()\n",
    "\n",
    "    print(\"\\n---- \")\n",
    "    print(\"About event: \", event['text'])\n",
    "    print(\"Summary: \", event['summary'])\n",
    "    print(\"Description: \", event['description'])\n",
    "    print(\"Start: \", event['start'])\n",
    "    print(\"End: \", event['end'])\n"
   ]
  },
  {
   "cell_type": "markdown",
   "metadata": {},
   "source": [
    "# Call google calendar API"
   ]
  },
  {
   "cell_type": "markdown",
   "metadata": {},
   "source": [
    "# Insert event"
   ]
  },
  {
   "cell_type": "code",
   "execution_count": 40,
   "metadata": {},
   "outputs": [
    {
     "name": "stdout",
     "output_type": "stream",
     "text": [
      "Event created: Team A Meeting --- Event URL: https://www.google.com/calendar/event?eid=aDk1dmhobHN0c282dmNzMThwcnNqY2M2dDggdG90aGFuaDFmZWIzLnF1aW5uQG0\n",
      "Event created: Lunch with John --- Event URL: https://www.google.com/calendar/event?eid=MjJtZmNocWVwdWwwYWc3NDRodTM0YzJlNWcgdG90aGFuaDFmZWIzLnF1aW5uQG0\n",
      "Event created: Presentation Preparation --- Event URL: https://www.google.com/calendar/event?eid=ZWxucDYyYmtvbDd0NjQ3ODJubDZxbm40aG8gdG90aGFuaDFmZWIzLnF1aW5uQG0\n"
     ]
    }
   ],
   "source": [
    "from agentic_workspace.tools.google_calendar.actions import GoogleCalendar\n",
    "\n",
    "with GoogleCalendar(calendar_id = 'primary') as calendar_client:\n",
    "    for _event in response:\n",
    "        try:\n",
    "            _event_formated = _event.model_dump()\n",
    "            _event_formated['colorId'] = '5'\n",
    "\n",
    "            event = calendar_client.insert_event(event=_event_formated)\n",
    "\n",
    "            print(f\"Event created: {event['summary']} --- Event URL: {event['htmlLink']}\")\n",
    "\n",
    "        except Exception as e:\n",
    "            print(f'An error occurred: {e}')\n"
   ]
  },
  {
   "cell_type": "markdown",
   "metadata": {},
   "source": [
    "## List event"
   ]
  },
  {
   "cell_type": "code",
   "execution_count": 28,
   "metadata": {},
   "outputs": [
    {
     "name": "stdout",
     "output_type": "stream",
     "text": [
      "----\n",
      "List event found:\n",
      "3o1sp2ne88u1vot8m1t0pil3p0 - 2025-03-24T09:00:00+07:00 - WP Sửa chữa lưu động - Thêm trường, Schema, Business Schema\n"
     ]
    }
   ],
   "source": [
    "from agentic_workspace.tools.google_calendar.actions import GoogleCalendar\n",
    "\n",
    "with GoogleCalendar() as calendar_client:\n",
    "    events = calendar_client.list_event(timeMin='2025-01-01T00:00:00Z', maxResults=1)\n",
    "\n",
    "    print(\"----\\nList event found:\")\n",
    "    if not events:\n",
    "        print('No upcoming events found.')\n",
    "    else:\n",
    "        for event in events:\n",
    "            start = event['start'].get('dateTime', event['start'].get('date'))\n",
    "            print(f\"{event['id']} - {start} - {event['summary']}\")"
   ]
  },
  {
   "cell_type": "markdown",
   "metadata": {},
   "source": [
    "## Get event"
   ]
  },
  {
   "cell_type": "code",
   "execution_count": 31,
   "metadata": {},
   "outputs": [
    {
     "name": "stdout",
     "output_type": "stream",
     "text": [
      "----\n",
      "List event found:\n",
      "3o1sp2ne88u1vot8m1t0pil3p0 - 2025-03-24T09:00:00+07:00 - WP Sửa chữa lưu động - Thêm trường, Schema, Business Schema\n"
     ]
    }
   ],
   "source": [
    "from agentic_workspace.tools.google_calendar.actions import GoogleCalendar\n",
    "\n",
    "with GoogleCalendar() as calendar_client:\n",
    "    event = calendar_client.get_event('3o1sp2ne88u1vot8m1t0pil3p0')\n",
    "\n",
    "    print(\"----\\nList event found:\")\n",
    "    if not event:\n",
    "        print('No upcoming events found.')\n",
    "    else:\n",
    "        start = event['start'].get('dateTime', event['start'].get('date'))\n",
    "        print(f\"{event['id']} - {start} - {event['summary']}\")"
   ]
  },
  {
   "cell_type": "markdown",
   "metadata": {},
   "source": [
    "# Update event"
   ]
  },
  {
   "cell_type": "code",
   "execution_count": 42,
   "metadata": {},
   "outputs": [
    {
     "name": "stdout",
     "output_type": "stream",
     "text": [
      "Event updated: WP Sửa chữa lưu động - Thêm trường, Schema, Business Schema --- Event URL: https://www.google.com/calendar/event?eid=M28xc3AybmU4OHUxdm90OG0xdDBwaWwzcDAgdG90aGFuaDFmZWIzLnF1aW5uQG0\n"
     ]
    }
   ],
   "source": [
    "from agentic_workspace.tools.google_calendar.actions import GoogleCalendar\n",
    "\n",
    "with GoogleCalendar() as calendar_client:\n",
    "    try:\n",
    "        event = calendar_client.update_event(event_id=\"3o1sp2ne88u1vot8m1t0pil3p0\", event={\"colorId\": \"2\"})\n",
    "\n",
    "        print(f\"Event updated: {event['summary']} --- Event URL: {event['htmlLink']}\")\n",
    "\n",
    "    except Exception as e:\n",
    "        print(f'An error occurred: {e}')"
   ]
  },
  {
   "cell_type": "markdown",
   "metadata": {},
   "source": [
    "# Delete event"
   ]
  },
  {
   "cell_type": "code",
   "execution_count": null,
   "metadata": {},
   "outputs": [],
   "source": [
    "from agentic_workspace.tools.google_calendar.actions import GoogleCalendar\n",
    "\n",
    "with GoogleCalendar() as calendar_client:\n",
    "    # insert an event\n",
    "    inserted_event = calendar_client.insert_event({\n",
    "        'summary': 'Test Event',\n",
    "        'description': 'This is a test event',\n",
    "        'start': {\n",
    "            'dateTime': '2023-05-01T23:00:00+07:00',\n",
    "            'timeZone': 'America/New_York'\n",
    "        },\n",
    "        'end': {\n",
    "            'dateTime': '2023-05-01T23:00:00+07:00',\n",
    "            'timeZone': 'America/New_York'\n",
    "        }\n",
    "    })\n",
    "\n",
    "\n",
    "    # Delete event\n",
    "    response = calendar_client.delete_event(inserted_event['id'])\n",
    "\n",
    "    print(response)"
   ]
  }
 ],
 "metadata": {
  "kernelspec": {
   "display_name": ".venv",
   "language": "python",
   "name": "python3"
  },
  "language_info": {
   "codemirror_mode": {
    "name": "ipython",
    "version": 3
   },
   "file_extension": ".py",
   "mimetype": "text/x-python",
   "name": "python",
   "nbconvert_exporter": "python",
   "pygments_lexer": "ipython3",
   "version": "3.13.2"
  }
 },
 "nbformat": 4,
 "nbformat_minor": 2
}
