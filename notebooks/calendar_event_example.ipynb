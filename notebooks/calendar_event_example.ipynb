{
 "cells": [
  {
   "cell_type": "markdown",
   "metadata": {},
   "source": [
    "# Load environment variables\n",
    "\n",
    "1, Create a `.env` file from the root directory of the project\n",
    "\n",
    "2, Add the GEMINI_API_KEY variable"
   ]
  },
  {
   "cell_type": "code",
   "execution_count": 2,
   "metadata": {},
   "outputs": [
    {
     "data": {
      "text/plain": [
       "True"
      ]
     },
     "execution_count": 2,
     "metadata": {},
     "output_type": "execute_result"
    }
   ],
   "source": [
    "from dotenv import load_dotenv\n",
    "from agentic_workspace.llm_clients.gemini_calls import call_gemini_calendar_event\n",
    "\n",
    "\n",
    "load_dotenv()"
   ]
  },
  {
   "cell_type": "markdown",
   "metadata": {},
   "source": [
    "# Sample call\n",
    "\n",
    "Calling the Gemini model to generate an output with a calendar event schema using `call_gemini_calendar_event()`"
   ]
  },
  {
   "cell_type": "code",
   "execution_count": null,
   "metadata": {},
   "outputs": [
    {
     "data": {
      "text/plain": [
       "[CalendarEventModel(text='Meeting with John', summary='Meeting', description='Discuss project updates', startTime=Time(dateTime=datetime.datetime(2024, 7, 27, 10, 0, tzinfo=TzInfo(-07:00)), timeZone='America/Los_Angeles'), endTime=Time(dateTime=datetime.datetime(2024, 7, 27, 11, 0, tzinfo=TzInfo(-07:00)), timeZone='America/Los_Angeles')),\n",
       " CalendarEventModel(text='Grocery Shopping', summary='Errands', description='Buy groceries for the week', startTime=Time(dateTime=datetime.datetime(2024, 7, 28, 14, 0, tzinfo=TzInfo(-07:00)), timeZone='America/Los_Angeles'), endTime=Time(dateTime=datetime.datetime(2024, 7, 28, 15, 0, tzinfo=TzInfo(-07:00)), timeZone='America/Los_Angeles')),\n",
       " CalendarEventModel(text='Dinner with family', summary='Family Time', description='Enjoy dinner together', startTime=Time(dateTime=datetime.datetime(2024, 7, 29, 18, 0, tzinfo=TzInfo(-07:00)), timeZone='America/Los_Angeles'), endTime=Time(dateTime=datetime.datetime(2024, 7, 29, 19, 0, tzinfo=TzInfo(-07:00)), timeZone='America/Los_Angeles'))]"
      ]
     },
     "execution_count": 3,
     "metadata": {},
     "output_type": "execute_result"
    }
   ],
   "source": [
    "prompt = \"Create a calendar event for the next 3 days\"\n",
    "\n",
    "response = call_gemini_calendar_event(prompt)\n",
    "\n",
    "for event in response:\n",
    "    print(event.model_dump())\n"
   ]
  }
 ],
 "metadata": {
  "kernelspec": {
   "display_name": ".venv",
   "language": "python",
   "name": "python3"
  },
  "language_info": {
   "codemirror_mode": {
    "name": "ipython",
    "version": 3
   },
   "file_extension": ".py",
   "mimetype": "text/x-python",
   "name": "python",
   "nbconvert_exporter": "python",
   "pygments_lexer": "ipython3",
   "version": "3.13.2"
  }
 },
 "nbformat": 4,
 "nbformat_minor": 2
}
