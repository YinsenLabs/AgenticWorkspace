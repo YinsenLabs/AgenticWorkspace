{
 "cells": [
  {
   "cell_type": "markdown",
   "metadata": {},
   "source": [
    "# Load environment variables\n",
    "\n",
    "1, Create a `.env` file from the root directory of the project\n",
    "\n",
    "2, Add the GEMINI_API_KEY variable"
   ]
  },
  {
   "cell_type": "code",
   "execution_count": 1,
   "metadata": {},
   "outputs": [
    {
     "data": {
      "text/plain": [
       "True"
      ]
     },
     "execution_count": 1,
     "metadata": {},
     "output_type": "execute_result"
    }
   ],
   "source": [
    "from dotenv import load_dotenv\n",
    "from typing import List\n",
    "\n",
    "load_dotenv()"
   ]
  },
  {
   "cell_type": "markdown",
   "metadata": {},
   "source": [
    "# Sample\n",
    "\n",
    "## Gemini call\n",
    "\n",
    "Calling the Gemini model to generate an output with a calendar event schema using `call_gemini_calendar_event()`"
   ]
  },
  {
   "cell_type": "code",
   "execution_count": 2,
   "metadata": {},
   "outputs": [
    {
     "name": "stdout",
     "output_type": "stream",
     "text": [
      "{'text': 'Meeting with team', 'summary': 'Team meeting', 'description': 'Discuss project progress and upcoming tasks.', 'start': {'dateTime': '2025-04-05T10:00:00+07:00', 'timeZone': 'Asia/Ho_Chi_Minh'}, 'end': {'dateTime': '2025-04-05T11:00:00+07:00', 'timeZone': 'Asia/Ho_Chi_Minh'}}\n",
      "{'text': 'Client presentation', 'summary': 'Presentation to client', 'description': 'Present the final design.', 'start': {'dateTime': '2025-04-06T14:00:00+07:00', 'timeZone': 'Asia/Ho_Chi_Minh'}, 'end': {'dateTime': '2025-04-06T15:00:00+07:00', 'timeZone': 'Asia/Ho_Chi_Minh'}}\n",
      "{'text': 'Project review', 'summary': 'Review project deliverables', 'description': 'Check and review all deliverables.', 'start': {'dateTime': '2025-04-07T09:00:00+07:00', 'timeZone': 'Asia/Ho_Chi_Minh'}, 'end': {'dateTime': '2025-04-07T10:00:00+07:00', 'timeZone': 'Asia/Ho_Chi_Minh'}}\n"
     ]
    }
   ],
   "source": [
    "from agentic_workspace.llm_clients.gemini_calls import call_gemini_calendar_event\n",
    "from agentic_workspace.models.calendar_event import CalendarEventModel\n",
    "\n",
    "\n",
    "prompt = \"Create a calendar event for the next 3 days, hôm nay là 5/4/2025\"\n",
    "\n",
    "response : List[CalendarEventModel] = call_gemini_calendar_event(prompt)\n",
    "\n",
    "for event in response:\n",
    "    print(event.model_dump())\n"
   ]
  },
  {
   "cell_type": "markdown",
   "metadata": {},
   "source": [
    "# Call google calendar API"
   ]
  },
  {
   "cell_type": "code",
   "execution_count": 3,
   "metadata": {},
   "outputs": [
    {
     "name": "stdout",
     "output_type": "stream",
     "text": [
      "Getting the upcoming 10 events\n",
      "2024-01-01T09:00:00+07:00 - abc\n",
      "2024-03-24T03:00:00+07:00 - Họp gia đình\n",
      "2024-03-24T22:00:00+07:00 - Daily\n",
      "2024-06-11T07:00:00+07:00 - Học tiếng Anh\n",
      "2024-06-15T01:00:00+07:00 - Trình bày machine learning trên lớp\n",
      "2024-07-18T11:00:00+07:00 - GenAI Startup event\n",
      "2024-07-18T13:30:00+07:00 - GenAI Startup event\n",
      "2024-07-31T15:00:00+07:00 - Thi IELTS\n",
      "2024-09-16T16:00:23+07:00 - [FPT Telecom] Thư mời phỏng vấn_Data Engineer\n",
      "2024-09-19T09:00:35+07:00 - [FPT Telecom] Thư mời phỏng vấn vòng 2_Data Engineer\n"
     ]
    }
   ],
   "source": [
    "from googleapiclient.discovery import build\n",
    "from agentic_workspace.tools.google_calendar.auth import get_calendar_credentials\n",
    "\n",
    "# Get credentials\n",
    "creds = get_calendar_credentials()\n",
    "\n",
    "# Build the Google Calendar API service\n",
    "service = build('calendar', 'v3', credentials=creds)\n",
    "\n",
    "# Example: List the next 10 events on the user's calendar\n",
    "print('Getting the upcoming 10 events')\n",
    "calendar_id = 'primary'  # Use 'primary' for the user's primary calendar\n",
    "\n",
    "# Call the Calendar API\n",
    "events_result = service.events().list(\n",
    "    calendarId=calendar_id,\n",
    "    timeMin='2024-01-01T00:00:00Z',  # Start time\n",
    "    maxResults=10,\n",
    "    singleEvents=True,\n",
    "    orderBy='startTime'\n",
    ").execute()\n",
    "\n",
    "events = events_result.get('items', [])\n",
    "\n",
    "if not events:\n",
    "    print('No upcoming events found.')\n",
    "else:\n",
    "    for event in events:\n",
    "        start = event['start'].get('dateTime', event['start'].get('date'))\n",
    "        print(f\"{start} - {event['summary']}\")"
   ]
  },
  {
   "cell_type": "markdown",
   "metadata": {},
   "source": [
    "# Insert event"
   ]
  },
  {
   "cell_type": "code",
   "execution_count": 3,
   "metadata": {},
   "outputs": [
    {
     "name": "stdout",
     "output_type": "stream",
     "text": [
      "Event created successfully: https://www.google.com/calendar/event?eid=MW9obnVqa2tlZDhmbDFranA4dDlvdmlybzAgdG90aGFuaDFmZWIzLnF1aW5uQG0\n",
      "Event created successfully: https://www.google.com/calendar/event?eid=Zmp1aXNtZDMxcWhibGY0ZGh1cGt1Z2NxcGcgdG90aGFuaDFmZWIzLnF1aW5uQG0\n",
      "Event created successfully: https://www.google.com/calendar/event?eid=bnMyZTdnaThiZmNucXFqb3VobnRicjg4ZDggdG90aGFuaDFmZWIzLnF1aW5uQG0\n"
     ]
    }
   ],
   "source": [
    "from googleapiclient.discovery import build\n",
    "from agentic_workspace.tools.google_calendar.auth import get_calendar_credentials\n",
    "\n",
    "# Get credentials\n",
    "creds = get_calendar_credentials()\n",
    "\n",
    "# Build the Google Calendar API service\n",
    "service = build('calendar', 'v3', credentials=creds)\n",
    "\n",
    "\n",
    "for event in response:\n",
    "    try:\n",
    "        # Insert the event\n",
    "        event = service.events().insert(\n",
    "            calendarId='primary',\n",
    "            body=event.model_dump(),\n",
    "        ).execute()\n",
    "        print(f'Event created successfully: {event.get(\"htmlLink\")}')\n",
    "\n",
    "    except Exception as e:\n",
    "        print(f'An error occurred: {e}')\n"
   ]
  }
 ],
 "metadata": {
  "kernelspec": {
   "display_name": "Python 3",
   "language": "python",
   "name": "python3"
  },
  "language_info": {
   "codemirror_mode": {
    "name": "ipython",
    "version": 3
   },
   "file_extension": ".py",
   "mimetype": "text/x-python",
   "name": "python",
   "nbconvert_exporter": "python",
   "pygments_lexer": "ipython3",
   "version": "3.13.2"
  }
 },
 "nbformat": 4,
 "nbformat_minor": 2
}
